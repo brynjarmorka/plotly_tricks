{
 "cells": [
  {
   "cell_type": "code",
   "execution_count": null,
   "metadata": {},
   "outputs": [],
   "source": [
    "# plotting med Plotly for Kristin"
   ]
  },
  {
   "cell_type": "code",
   "execution_count": null,
   "metadata": {},
   "outputs": [],
   "source": [
    "# making a helper function to plot scatter plots\n",
    "\n",
    "import plotly.graph_objects as go\n",
    "\n",
    "def makefig(title=None, xaxis=None, yaxis=None, width=800, height=400):\n",
    "    fig = go.Figure()\n",
    "    fig.update_layout(\n",
    "        title=title,\n",
    "        xaxis_title=xaxis,\n",
    "        yaxis_title=yaxis,\n",
    "        font=dict(\n",
    "            family=\"EB Garamond\", # font family\n",
    "            size=16, # font size\n",
    "            color=\"#000000\" # text color on tick labels and titles\n",
    "        )\n",
    "    )\n",
    "    fig.update_layout(width=width, height=height)\n",
    "    fig.update_layout(legend=dict(x=.05, y=0.95, bordercolor=\"Grey\", borderwidth=1, bgcolor=\"White\"))\n",
    "    fig.update_layout(margin=dict(l=20, r=20, t=40, b=20))\n",
    "    return fig\n",
    "\n",
    "# add one line\n",
    "def line(fig, x, y, name=None, color=None, width=3, dash=None, mode='lines+markers'):\n",
    "    fig.add_trace(go.Scatter(x=x, y=y, name=name, mode=mode, line=dict(color=color, width=width, dash=dash), marker=dict(color=color, size=width*3)))\n",
    "    # add text to each point\n",
    "\n",
    "    return fig\n",
    "\n",
    "# add markers\n",
    "def markers(fig, x, y, name=None, color=None, size=8):\n",
    "    fig.add_trace(go.Scatter(x=x, y=y, name=name, mode='markers', marker=dict(color=color, size=size)))\n",
    "    return fig\n",
    "\n",
    "# add annotation\n",
    "def annotate(fig, x, y, text, color=None, arrow=False, size=12, ax=0, ay=0):\n",
    "    fig.add_annotation(x=x, y=y, text=text, showarrow=arrow, font=dict(color=color, size=size), ax=ax, ay=ay)\n",
    "    return fig\n",
    "\n",
    "# save figure\n",
    "def savefig(fig, filename, scale=4):\n",
    "    # higher scale gives higher resolution, but bigger file\n",
    "    fig.write_image(filename, scale=scale)\n",
    "    return fig"
   ]
  },
  {
   "cell_type": "code",
   "execution_count": null,
   "metadata": {},
   "outputs": [],
   "source": [
    "fig = makefig(title=\"Test plot\", xaxis=\"x\", yaxis=\"y\")\n",
    "line(fig, [1,2,3], [1,2,3], name=\"lines+markers\")\n",
    "line(fig, [1,2,3], [2,3,4], name=\"lines\", mode='lines')\n",
    "line(fig, [1,2,3], [3,4,5], name=\"dashed line+markers\", dash=\"dash\")\n",
    "markers(fig, [1,2,3], [4,5,6], name=\"markers\")"
   ]
  },
  {
   "cell_type": "code",
   "execution_count": null,
   "metadata": {},
   "outputs": [],
   "source": [
    "from openpyxl import load_workbook\n",
    "from pathlib import Path\n",
    "\n",
    "# endre linjen under til der filen ligger\n",
    "path = \"~/Downloads/Brynjar.xlsx\"\n",
    "path = Path(path).expanduser()\n",
    "path\n",
    "wb = load_workbook(filename = path)\n",
    "wb.sheetnames"
   ]
  },
  {
   "cell_type": "code",
   "execution_count": null,
   "metadata": {},
   "outputs": [],
   "source": [
    "# read file at path\n",
    "import pandas as pd\n",
    "outflow = pd.read_excel(path, sheet_name=\"outflow\")\n",
    "inflow = pd.read_excel(path, sheet_name=\"inflow\")\n",
    "stock = pd.read_excel(path, sheet_name=\"stock\")\n"
   ]
  },
  {
   "cell_type": "code",
   "execution_count": null,
   "metadata": {},
   "outputs": [],
   "source": [
    "# plot outflow\n",
    "fig = makefig(title=\"Outflow\", xaxis=\"Year\")\n",
    "line(fig, outflow[\"Year\"], outflow[\"Modeled outflow\"], name=\"Modeled outflow\")\n",
    "line(fig, outflow[\"Year\"], outflow[\"Nomiko outflow\"], name=\"Nomiko outflow\")\n",
    "\n",
    "fig.add_annotation(x=2021, y=1037, text=\"1037\", showarrow=True, font=dict(color='black', size=14), ax=40)\n",
    "fig.add_annotation(x=2021, y=7057, text=\"7057\", showarrow=True, font=dict(color='black', size=14), ax=-30)\n",
    "\n",
    "savefig(fig, \"outflow.jpg\")"
   ]
  },
  {
   "cell_type": "code",
   "execution_count": null,
   "metadata": {},
   "outputs": [],
   "source": [
    "# plot inflow\n",
    "# Modeled inflow\n",
    "# OFV inflow\n",
    "fig = makefig(title=\"Inflow\", xaxis=\"Year\")\n",
    "line(fig, inflow[\"Year\"], inflow[\"Modeled inflow\"], name=\"Modeled inflow\")\n",
    "line(fig, inflow[\"Year\"], inflow[\"OFV inflow\"], name=\"OFV inflow\")\n",
    "# savefig(fig, \"inflow.jpg\")\n"
   ]
  },
  {
   "cell_type": "code",
   "execution_count": null,
   "metadata": {},
   "outputs": [],
   "source": [
    "# plot stock\n",
    "# Modeled stock\n",
    "# SSB stock\n",
    "# OFV stock\n",
    "fig = makefig(title=\"Stock\", xaxis=\"Year\")\n",
    "line(fig, stock[\"Year\"], stock[\"Modeled stock\"], name=\"Modeled stock\")\n",
    "line(fig, stock[\"Year\"], stock[\"OFV stock\"], name=\"OFV stock\", color=\"#00cc96\")\n",
    "line(fig, stock[\"Year\"], stock[\"SSB stock\"], name=\"SSB stock\", color='#ef553b')\n",
    "# savefig(fig, \"stock.jpg\")\n"
   ]
  },
  {
   "cell_type": "code",
   "execution_count": null,
   "metadata": {},
   "outputs": [],
   "source": []
  },
  {
   "cell_type": "code",
   "execution_count": null,
   "metadata": {},
   "outputs": [],
   "source": []
  }
 ],
 "metadata": {
  "kernelspec": {
   "display_name": "hspy",
   "language": "python",
   "name": "python3"
  },
  "language_info": {
   "codemirror_mode": {
    "name": "ipython",
    "version": 3
   },
   "file_extension": ".py",
   "mimetype": "text/x-python",
   "name": "python",
   "nbconvert_exporter": "python",
   "pygments_lexer": "ipython3",
   "version": "3.8.13"
  },
  "orig_nbformat": 4,
  "vscode": {
   "interpreter": {
    "hash": "eedee208f6f0fe67ac5ec53646d8853bbb152098f521b748accd5958a126e1a5"
   }
  }
 },
 "nbformat": 4,
 "nbformat_minor": 2
}
